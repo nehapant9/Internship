{
 "cells": [
  {
   "cell_type": "markdown",
   "id": "a601e531",
   "metadata": {},
   "source": [
    "# Q1: Write a python program to scrape data for “Data Analyst” Job position in “Bangalore” location. You have to scrape the job-title, job-location, company_name, experience_required. You have to scrape first 10 jobs data."
   ]
  },
  {
   "cell_type": "code",
   "execution_count": 165,
   "id": "f99001e3",
   "metadata": {},
   "outputs": [],
   "source": [
    "#!pip install undetected_chromedriver"
   ]
  },
  {
   "cell_type": "code",
   "execution_count": 166,
   "id": "dbc439a5",
   "metadata": {},
   "outputs": [],
   "source": [
    "import undetected_chromedriver as uc\n",
    "\n",
    "# path for chromedriver\n",
    "\n",
    "options = webdriver.ChromeOptions() \n",
    "\n",
    "options.add_argument(\"start-maximized\")\n",
    "\n",
    "\n",
    "\n",
    "# path for chromedriver\n",
    "\n",
    "options = webdriver.ChromeOptions() \n",
    "\n",
    "options.add_argument(\"start-maximized\")\n",
    "\n",
    "driver = uc.Chrome(executable_path='C:/Users/nehap/Downloads/chromedriver.exe', options=options)\n",
    "\n",
    "\n",
    "\n",
    "url = \"https://www.naukri.com/\"\n",
    "\n",
    "driver.get(url)"
   ]
  },
  {
   "cell_type": "code",
   "execution_count": 167,
   "id": "2274142f",
   "metadata": {},
   "outputs": [],
   "source": [
    "#importing required libraries\n",
    "import selenium\n",
    "import pandas as pd\n",
    "from selenium import webdriver"
   ]
  },
  {
   "cell_type": "code",
   "execution_count": 168,
   "id": "7df9f923",
   "metadata": {},
   "outputs": [],
   "source": [
    "search_jobs= driver.find_element_by_xpath('//input[@class=\"sugInp\"]')\n",
    "search_jobs.send_keys(\"Data Analyst\")"
   ]
  },
  {
   "cell_type": "code",
   "execution_count": 169,
   "id": "881958f5",
   "metadata": {},
   "outputs": [],
   "source": [
    "search_loc= driver.find_element_by_id(\"qsb-location-sugg\")\n",
    "search_loc.send_keys(\"Bangalore\")"
   ]
  },
  {
   "cell_type": "code",
   "execution_count": 170,
   "id": "a27e83bf",
   "metadata": {},
   "outputs": [],
   "source": [
    "search_btn= driver.find_element_by_xpath('//button[@class=\"btn\"]')\n",
    "search_btn.click()"
   ]
  },
  {
   "cell_type": "code",
   "execution_count": 171,
   "id": "1eeb7bd3",
   "metadata": {},
   "outputs": [
    {
     "data": {
      "text/plain": [
       "[]"
      ]
     },
     "execution_count": 171,
     "metadata": {},
     "output_type": "execute_result"
    }
   ],
   "source": [
    "#extracting job titles\n",
    "job_title= driver.find_elements_by_xpath('//a[@class=\"title fw500 ellipsis\"]')\n",
    "job_titles=[]\n",
    "for i in job_title[0:10]:\n",
    "    job_titles.append(i.text)\n",
    "job_titles"
   ]
  },
  {
   "cell_type": "code",
   "execution_count": 172,
   "id": "303d7457",
   "metadata": {},
   "outputs": [
    {
     "data": {
      "text/plain": [
       "['Bangalore/Bengaluru',\n",
       " 'Chennai, Bangalore/Bengaluru',\n",
       " 'Bangalore/Bengaluru',\n",
       " 'Bangalore/Bengaluru',\n",
       " 'Bangalore/Bengaluru',\n",
       " 'Hyderabad/Secunderabad, Pune, Gurgaon/Gurugram, Chennai, Bangalore/Bengaluru, Mumbai (All Areas)',\n",
       " '(WFH during Covid)',\n",
       " 'Chennai, Bangalore/Bengaluru',\n",
       " 'Bangalore/Bengaluru',\n",
       " 'Hyderabad/Secunderabad, Chennai, Bangalore/Bengaluru']"
      ]
     },
     "execution_count": 172,
     "metadata": {},
     "output_type": "execute_result"
    }
   ],
   "source": [
    "#extracting location\n",
    "location= driver.find_elements_by_xpath('//li[@class=\"fleft grey-text br2 placeHolderLi location\"]//span')\n",
    "loc=[]\n",
    "for i in location[0:10]:\n",
    "    loc.append(i.text)\n",
    "loc"
   ]
  },
  {
   "cell_type": "code",
   "execution_count": 173,
   "id": "cec48f24",
   "metadata": {},
   "outputs": [
    {
     "data": {
      "text/plain": [
       "['McAfee Software (India) Pvt. Ltd',\n",
       " 'Tata Consultancy Services Ltd.',\n",
       " 'Trigent Software',\n",
       " 'Trigent Software',\n",
       " 'AVE-Promagne',\n",
       " 'Virtusa Consulting Services Pvt Ltd',\n",
       " 'Tata Consultancy Services Ltd.',\n",
       " 'GlaxoSmithKline Pharmaceuticals Limited',\n",
       " 'SYREN TECHNOLOGIES PRIVATE LIMITED',\n",
       " 'Marvell India Pvt Ltd']"
      ]
     },
     "execution_count": 173,
     "metadata": {},
     "output_type": "execute_result"
    }
   ],
   "source": [
    "company= driver.find_elements_by_xpath('//a[@class=\"subTitle ellipsis fleft\"]')\n",
    "comp=[]\n",
    "for i in company[0:10]:\n",
    "    comp.append(i.text)\n",
    "comp"
   ]
  },
  {
   "cell_type": "code",
   "execution_count": 174,
   "id": "ddf87ff8",
   "metadata": {},
   "outputs": [
    {
     "data": {
      "text/plain": [
       "['6-8 Yrs',\n",
       " '6-11 Yrs',\n",
       " '5-10 Yrs',\n",
       " '5-10 Yrs',\n",
       " '3-8 Yrs',\n",
       " '8-12 Yrs',\n",
       " '6-11 Yrs',\n",
       " '4-8 Yrs',\n",
       " '4-9 Yrs',\n",
       " '3-5 Yrs']"
      ]
     },
     "execution_count": 174,
     "metadata": {},
     "output_type": "execute_result"
    }
   ],
   "source": [
    "experience= driver.find_elements_by_xpath('//li[@class=\"fleft grey-text br2 placeHolderLi experience\"]//span')\n",
    "exp=[]\n",
    "for i in experience[0:10]:\n",
    "    exp.append(i.text)\n",
    "exp"
   ]
  },
  {
   "cell_type": "code",
   "execution_count": 175,
   "id": "7de08616",
   "metadata": {},
   "outputs": [
    {
     "data": {
      "text/html": [
       "<div>\n",
       "<style scoped>\n",
       "    .dataframe tbody tr th:only-of-type {\n",
       "        vertical-align: middle;\n",
       "    }\n",
       "\n",
       "    .dataframe tbody tr th {\n",
       "        vertical-align: top;\n",
       "    }\n",
       "\n",
       "    .dataframe thead th {\n",
       "        text-align: right;\n",
       "    }\n",
       "</style>\n",
       "<table border=\"1\" class=\"dataframe\">\n",
       "  <thead>\n",
       "    <tr style=\"text-align: right;\">\n",
       "      <th></th>\n",
       "      <th>Title</th>\n",
       "      <th>Location</th>\n",
       "      <th>Company</th>\n",
       "      <th>Experience</th>\n",
       "    </tr>\n",
       "  </thead>\n",
       "  <tbody>\n",
       "    <tr>\n",
       "      <th>0</th>\n",
       "      <td>NaN</td>\n",
       "      <td>Bangalore/Bengaluru</td>\n",
       "      <td>McAfee Software (India) Pvt. Ltd</td>\n",
       "      <td>6-8 Yrs</td>\n",
       "    </tr>\n",
       "    <tr>\n",
       "      <th>1</th>\n",
       "      <td>NaN</td>\n",
       "      <td>Chennai, Bangalore/Bengaluru</td>\n",
       "      <td>Tata Consultancy Services Ltd.</td>\n",
       "      <td>6-11 Yrs</td>\n",
       "    </tr>\n",
       "    <tr>\n",
       "      <th>2</th>\n",
       "      <td>NaN</td>\n",
       "      <td>Bangalore/Bengaluru</td>\n",
       "      <td>Trigent Software</td>\n",
       "      <td>5-10 Yrs</td>\n",
       "    </tr>\n",
       "    <tr>\n",
       "      <th>3</th>\n",
       "      <td>NaN</td>\n",
       "      <td>Bangalore/Bengaluru</td>\n",
       "      <td>Trigent Software</td>\n",
       "      <td>5-10 Yrs</td>\n",
       "    </tr>\n",
       "    <tr>\n",
       "      <th>4</th>\n",
       "      <td>NaN</td>\n",
       "      <td>Bangalore/Bengaluru</td>\n",
       "      <td>AVE-Promagne</td>\n",
       "      <td>3-8 Yrs</td>\n",
       "    </tr>\n",
       "    <tr>\n",
       "      <th>5</th>\n",
       "      <td>NaN</td>\n",
       "      <td>Hyderabad/Secunderabad, Pune, Gurgaon/Gurugram...</td>\n",
       "      <td>Virtusa Consulting Services Pvt Ltd</td>\n",
       "      <td>8-12 Yrs</td>\n",
       "    </tr>\n",
       "    <tr>\n",
       "      <th>6</th>\n",
       "      <td>NaN</td>\n",
       "      <td>(WFH during Covid)</td>\n",
       "      <td>Tata Consultancy Services Ltd.</td>\n",
       "      <td>6-11 Yrs</td>\n",
       "    </tr>\n",
       "    <tr>\n",
       "      <th>7</th>\n",
       "      <td>NaN</td>\n",
       "      <td>Chennai, Bangalore/Bengaluru</td>\n",
       "      <td>GlaxoSmithKline Pharmaceuticals Limited</td>\n",
       "      <td>4-8 Yrs</td>\n",
       "    </tr>\n",
       "    <tr>\n",
       "      <th>8</th>\n",
       "      <td>NaN</td>\n",
       "      <td>Bangalore/Bengaluru</td>\n",
       "      <td>SYREN TECHNOLOGIES PRIVATE LIMITED</td>\n",
       "      <td>4-9 Yrs</td>\n",
       "    </tr>\n",
       "    <tr>\n",
       "      <th>9</th>\n",
       "      <td>NaN</td>\n",
       "      <td>Hyderabad/Secunderabad, Chennai, Bangalore/Ben...</td>\n",
       "      <td>Marvell India Pvt Ltd</td>\n",
       "      <td>3-5 Yrs</td>\n",
       "    </tr>\n",
       "  </tbody>\n",
       "</table>\n",
       "</div>"
      ],
      "text/plain": [
       "   Title                                           Location  \\\n",
       "0    NaN                                Bangalore/Bengaluru   \n",
       "1    NaN                       Chennai, Bangalore/Bengaluru   \n",
       "2    NaN                                Bangalore/Bengaluru   \n",
       "3    NaN                                Bangalore/Bengaluru   \n",
       "4    NaN                                Bangalore/Bengaluru   \n",
       "5    NaN  Hyderabad/Secunderabad, Pune, Gurgaon/Gurugram...   \n",
       "6    NaN                                 (WFH during Covid)   \n",
       "7    NaN                       Chennai, Bangalore/Bengaluru   \n",
       "8    NaN                                Bangalore/Bengaluru   \n",
       "9    NaN  Hyderabad/Secunderabad, Chennai, Bangalore/Ben...   \n",
       "\n",
       "                                   Company Experience  \n",
       "0         McAfee Software (India) Pvt. Ltd    6-8 Yrs  \n",
       "1           Tata Consultancy Services Ltd.   6-11 Yrs  \n",
       "2                         Trigent Software   5-10 Yrs  \n",
       "3                         Trigent Software   5-10 Yrs  \n",
       "4                             AVE-Promagne    3-8 Yrs  \n",
       "5      Virtusa Consulting Services Pvt Ltd   8-12 Yrs  \n",
       "6           Tata Consultancy Services Ltd.   6-11 Yrs  \n",
       "7  GlaxoSmithKline Pharmaceuticals Limited    4-8 Yrs  \n",
       "8       SYREN TECHNOLOGIES PRIVATE LIMITED    4-9 Yrs  \n",
       "9                    Marvell India Pvt Ltd    3-5 Yrs  "
      ]
     },
     "execution_count": 175,
     "metadata": {},
     "output_type": "execute_result"
    }
   ],
   "source": [
    "#making dataframe\n",
    "\n",
    "jobs= pd.DataFrame({})\n",
    "jobs['Title']=job_titles\n",
    "jobs['Location']=loc\n",
    "jobs['Company']=comp\n",
    "jobs['Experience']= exp\n",
    "jobs"
   ]
  },
  {
   "cell_type": "markdown",
   "id": "4ec35126",
   "metadata": {},
   "source": [
    "# Q2: Write a python program to scrape data for “Data Scientist” Job position in “Bangalore” location. You have to scrape the job-title, job-location, company_name, full job-description. You have to scrape first 10 jobs data."
   ]
  },
  {
   "cell_type": "code",
   "execution_count": 217,
   "id": "bbc1c206",
   "metadata": {},
   "outputs": [],
   "source": [
    "import undetected_chromedriver as uc\n",
    "\n",
    "# path for chromedriver\n",
    "\n",
    "options = webdriver.ChromeOptions() \n",
    "\n",
    "options.add_argument(\"start-maximized\")\n",
    "\n",
    "\n",
    "\n",
    "# path for chromedriver\n",
    "\n",
    "options = webdriver.ChromeOptions() \n",
    "\n",
    "options.add_argument(\"start-maximized\")\n",
    "\n",
    "driver = uc.Chrome(executable_path='C:/Users/nehap/Downloads/chromedriver.exe', options=options)\n",
    "\n",
    "\n",
    "\n",
    "url = \"https://www.naukri.com/\"\n",
    "\n",
    "driver.get(url)"
   ]
  },
  {
   "cell_type": "code",
   "execution_count": 218,
   "id": "155694fb",
   "metadata": {},
   "outputs": [],
   "source": [
    "job_position=driver.find_element_by_xpath('//input[@class=\"sugInp\"]')\n",
    "job_position.send_keys('Data Scientist')"
   ]
  },
  {
   "cell_type": "code",
   "execution_count": 219,
   "id": "998af328",
   "metadata": {},
   "outputs": [],
   "source": [
    "job_location=driver.find_element_by_id('qsb-location-sugg')\n",
    "job_location.send_keys('Bangalore')"
   ]
  },
  {
   "cell_type": "code",
   "execution_count": 220,
   "id": "6b5e6cb6",
   "metadata": {},
   "outputs": [],
   "source": [
    "search_job= driver.find_element_by_xpath('//button[@class=\"btn\"]')\n",
    "search_job.click()"
   ]
  },
  {
   "cell_type": "code",
   "execution_count": 221,
   "id": "5a9ae6e8",
   "metadata": {},
   "outputs": [
    {
     "data": {
      "text/plain": [
       "['Hiring For Data Scientist',\n",
       " 'Lead Data Scientist BFSI',\n",
       " 'Associate Data Scientist',\n",
       " 'Data Scientist',\n",
       " 'Data Scientist 3',\n",
       " 'Data scientist',\n",
       " 'Data Scientist 4',\n",
       " 'Data Scientist: Advanced Analytics',\n",
       " 'Senior Data Scientist',\n",
       " 'Senior Data Scientist']"
      ]
     },
     "execution_count": 221,
     "metadata": {},
     "output_type": "execute_result"
    }
   ],
   "source": [
    "job_title= driver.find_elements_by_xpath('//a[@class=\"title fw500 ellipsis\"]')\n",
    "title=[]\n",
    "for i in job_title[0:10]:\n",
    "    title.append(i.text)\n",
    "title"
   ]
  },
  {
   "cell_type": "code",
   "execution_count": 222,
   "id": "6b3422a4",
   "metadata": {},
   "outputs": [
    {
     "data": {
      "text/plain": [
       "['Chennai, Bangalore/Bengaluru, Mumbai (All Areas)',\n",
       " '(WFH during Covid)',\n",
       " 'Bengaluru/Bangalore',\n",
       " 'Bangalore/Bengaluru',\n",
       " 'Bangalore/Bengaluru',\n",
       " 'Bangalore/Bengaluru',\n",
       " 'United States (USA), Bangalore/Bengaluru',\n",
       " 'Bangalore/Bengaluru',\n",
       " 'Bengaluru/Bangalore',\n",
       " 'Bangalore/Bengaluru']"
      ]
     },
     "execution_count": 222,
     "metadata": {},
     "output_type": "execute_result"
    }
   ],
   "source": [
    "job_location=driver.find_elements_by_xpath('//li[@class=\"fleft grey-text br2 placeHolderLi location\"]//span')\n",
    "location=[]\n",
    "for i in job_location[0:10]:\n",
    "    location.append(i.text)\n",
    "location"
   ]
  },
  {
   "cell_type": "code",
   "execution_count": 223,
   "id": "e0e781ca",
   "metadata": {},
   "outputs": [
    {
     "data": {
      "text/plain": [
       "['Tata Consultancy Services Ltd.',\n",
       " 'IBM India Pvt. Limited',\n",
       " 'Philips India Limited',\n",
       " 'IHS Markit',\n",
       " 'Western Digital',\n",
       " 'Bloom Consulting Services, Inc.',\n",
       " 'Western Digital',\n",
       " 'IBM India Pvt. Limited',\n",
       " 'Walmart Labs',\n",
       " 'Airbnb']"
      ]
     },
     "execution_count": 223,
     "metadata": {},
     "output_type": "execute_result"
    }
   ],
   "source": [
    "company_name= driver.find_elements_by_xpath('//a[@class=\"subTitle ellipsis fleft\"]')\n",
    "company=[]\n",
    "for i in company_name[0:10]:\n",
    "    company.append(i.text)\n",
    "company"
   ]
  },
  {
   "cell_type": "code",
   "execution_count": 224,
   "id": "81ac8f60",
   "metadata": {},
   "outputs": [
    {
     "data": {
      "text/plain": [
       "['https://www.naukri.com/job-listings-hiring-for-data-scientist-tata-consultancy-services-chennai-bangalore-bengaluru-mumbai-all-areas-3-to-8-years-110921000464?src=jobsearchDesk&sid=16314685908536057&xp=1&px=1',\n",
       " 'https://www.naukri.com/job-listings-lead-data-scientist-bfsi-ibm-india-pvt-limited-bengaluru-bangalore-5-to-9-years-070921901691?src=jobsearchDesk&sid=16314685908536057&xp=2&px=1',\n",
       " 'https://www.naukri.com/job-listings-associate-data-scientist-philips-india-limited-bangalore-bengaluru-3-to-5-years-060921501985?src=jobsearchDesk&sid=16314685908536057&xp=3&px=1',\n",
       " 'https://www.naukri.com/job-listings-data-scientist-ihs-markit-bangalore-bengaluru-3-to-6-years-100921500999?src=jobsearchDesk&sid=16314685908536057&xp=4&px=1',\n",
       " 'https://www.naukri.com/job-listings-data-scientist-3-western-digital-bangalore-bengaluru-6-to-9-years-100921501898?src=jobsearchDesk&sid=16314685908536057&xp=5&px=1',\n",
       " 'https://www.naukri.com/job-listings-data-scientist-bloom-consulting-services-inc-bangalore-bengaluru-united-states-usa-5-to-8-years-100921500172?src=jobsearchDesk&sid=16314685908536057&xp=6&px=1',\n",
       " 'https://www.naukri.com/job-listings-data-scientist-4-western-digital-bangalore-bengaluru-2-to-4-years-100921501899?src=jobsearchDesk&sid=16314685908536057&xp=7&px=1',\n",
       " 'https://www.naukri.com/job-listings-data-scientist-advanced-analytics-ibm-india-pvt-limited-bengaluru-bangalore-3-to-7-years-070921901677?src=jobsearchDesk&sid=16314685908536057&xp=8&px=1',\n",
       " 'https://www.naukri.com/job-listings-senior-data-scientist-walmart-labs-bangalore-bengaluru-6-to-10-years-090921501063?src=jobsearchDesk&sid=16314685908536057&xp=9&px=1',\n",
       " 'https://www.naukri.com/job-listings-senior-data-scientist-airbnb-bangalore-bengaluru-7-to-12-years-080921500017?src=jobsearchDesk&sid=16314685908536057&xp=10&px=1']"
      ]
     },
     "execution_count": 224,
     "metadata": {},
     "output_type": "execute_result"
    }
   ],
   "source": [
    "url= driver.find_elements_by_xpath('//a[@class=\"title fw500 ellipsis\"]')\n",
    "job_opening=[]\n",
    "for i in url[0:10]:\n",
    "    job_opening.append(i.get_attribute('href'))\n",
    "job_opening"
   ]
  },
  {
   "cell_type": "code",
   "execution_count": 225,
   "id": "9f3d3bd5",
   "metadata": {},
   "outputs": [
    {
     "data": {
      "text/plain": [
       "['Minumum 3 years of experience in Data Science/Machine learningLocation : PAN INDIAExp : 3 - 7 YearsMinimum 3 year of experience in being Applied Machine Learning Engineer roleResearch, develop, and implement prediction, optimization, and analytics tools.Document and communicate methodology and results to technical and non-technical audiencesGuide and implement best practices of curated data and evaluate ML models on large-scale dataLead design and implementation of Machine Learning algorithms, combining with rule-based optimization to deliver significant improvement inproduct metricsWrite production ready high quality, maintainable and scalable code.Design and analyze metrics to verify model and algorithm effectiveness.Experience with data analysis languages such as Python or ScalaExperience with Machine Learning tools (Azure ML, SageMaker, TensorFlow, Kubernetes, etc.)Experience with Machine Learning Languages (R, Python, .Net Core, etc.)',\n",
       " '--',\n",
       " 'Use predictive modeling to increase and optimize customer experiences, revenue generation, campaign optimization and other business outcomesWork with product management to develop data use cases and embed predictive models in workflows on resource constrained platforms and cloud enabled.Selecting features, building and optimizing classifiers using machine learning and deep learning techniquesCollaborates with Data Engineers to enhance data collection and ingestion/curation techniques to include information that is relevant for building analytic systemsProcessing, cleansing, and verifying the integrity of data used for analysisDevelop processes and tools to monitor and analyze model performance and data accuracy. Life cycle management of predictive models.Adherence to compliance procedures in accordance with regulatory standards, requirements, and policies. Managing and designing the reporting environment, including data sources security, and metadata.Job Qualifications:Master s degree or PhD in Computer Science, Information management, Statistics or related field, with 3 to 5 years of experience in the Consumer or Healthcare industry manipulating data sets and building predictive models with focus on product developmentExperience in statistical modelling, machine learning, data mining, unstructured data analytics and natural language processing. Sound understanding of - Bayesian Modelling, Classification Models, Cluster Analysis, Neural Network, Nonparametric Methods, Multivariate Statistics, etc.Strong hands on knowledge of ML techniques like regression algorithms, K-NN, Na ve Bayes, SVM and ensemble techniques like Random forest, AdaBoost etcHaving strong knowledge in unsupervised learning algorithms using Neural networks and Deep-LearningStrong knowledge in Data Wrangling and Exploration techniques to identify the patterns, trends and outliners.Deep knowledge and practical experience with data science toolkits, such as NumPy, Pandas, scikit-learn or equivalentExperience with data visualization tools, such as QlikView, Matplotlib, seaborn or equivalent tools.Proficiency in using query languages, such as SQL, PL/SQLHands on experience in the one or more databases like Hadoop, AWS Redshift, Snowflake etc.Good applied statistics skills, such as distributions, statistical testing, regression, etc.Good ETL scripting and programming skills, such as Python, R or Scala to integrate developed solution into the proposition.A team player capable of working and integrating across cross-functional team for implementing project requirements. Experience in technical requirements gathering and documentation.Ability to work effectively and independently in a fast-paced global collaborative agile team environment with tight deadlinesA flexible, pragmatic and collaborative team player with innate ability to engage with stakeholders at all levels in the organization.A self-starter with high levels of drive, energy, resilience and a desire for professional excellence with a passion for data and data science',\n",
       " '  The Automotive Supply Chain and Technology team at IHS Markit is in search of a Data Scientist to support New Product Development and global teams ongoing research and analysis efforts. The research team produces granular forecast dataset and written analyses on the supply chain of parts supplied to automakers with technology, supplier and logistic information. The team generate forecasts on technology trends through multiple research channels and by using many connected and disconnected data sources to drive the forecast.The position covers an array of critical data-centric activities aimed at enhancing the efficiency of our 70+ strong research team, sustaining the increasing data complexity and most importantly supporting new product development at one of IHS Markits fastest growing product lines. The position is based in Gurgaon or Bangalore, India and reports to our Regional Head of operations in India.Responsibilities and dutiesUnderstanding business requirements to create maintainable workflows e.g. inbound/input data from analysts and external sources to feed a set of interconnected data sets and calculationsData wrangling and data mining to support product innovation and model creationETL process design, implementation, maintenance and documentation for large inter-connected data setsData cleaning and manipulation of raw dataCreation of logical and physical data modelsUtilize existing database infrastructures as well as building new DB infrastructures as requiredData acquisition explorationCreate and maintain detailed documentation of workflowsHarness machine learning and statistical modelling with a view to enhance automation, reduce manual data interaction from research team and develop new insightful productsIdentifying, assembling, and enriching a wide range of structured and unstructured data to support new automotive forecasts and analysis.Creation of logical and physical data models (including creation of workflows in data science platforms such as KNIME)Qualifications and skills3+ years experience as a data scientistAt minimum, a degree in computer science, computer engineering or a related quantitative field with proven work experience in the data engineering/scientist fieldProven experience with SQL and NoSQL databases like Oracle DB, SQL Server, Cassandra, MongoDB, MySQL, Hadoop, Spark, AWS (EC2 and S3)Proven experience with one or more programming/scripting languages (e.g. Python, C++, R, Matlab, Scala).Familiar with techniques to manage large databases, including partitioning, compression and indexes as well as data miningAbility to build models (e.g. Linear regression, logistic, Markov models) and use one or more machine learning library/frameworks (e.g. Scikit-learn) with a view to solve complex high dimensional dataKnowledge of OLAP and ETL processesFamiliarity with data science platforms such as KNIME is a bonusKnowledge of API creation and maintenanceEstablished MS Office skills (including VBA and Access) , O365 desirableGood communication skills, collaborative team spirit, curiosity to constantly keep thinking of unique approaches and solutions.Ability to work independently.Experience committing to deadlines whilst multi-tasking',\n",
       " '  Engage with Analytics Business Partners (ABP) and customers to understand the problem statement, required data and analytics insights to solve a given business problem.Perform ETL, data cleansing and feature engineering to prepare data required for Rapid Learning Cycle (RLC) projects.Perform EDA and work with SMEs to establish data understanding and address data quality issues.Partner with other data scientists in AAO and Asia factories to build advanced statistical, AI and ML models that are congruent with the problem being solved and optimize for performance.Work closely with ML Engineers and Solution Architects in AAO to seamlessly operationalize models developed from RLC to Pilot to Production.Present findings recommendations to project stakeholders.Be up to date on latest technological advancements in AI/ML space through self-learning, literature research, relevant conferences etc.Provide input to technical direction of AAO Data Science teams.Proactively network with other data scientists and analytics professionals in WDC India to identify collaboration opportunities.Preferred Qualifications:BS/MS/PhD in a quantitative discipline (e.g., Computer Science, Data Science, Applied Sciences or Engineering).BS 5+ years or MS 4+ years or PhD 1+ year of experience in an analytics function.Prior experience in developing advanced analytics solutions to business problems.Strong theoretical understanding hands-on experience in statistical data analysis, AI ML techniques (e.g., supervised and unsupervised modeling, Deep Learning, CNN, NLP, Time-series analysis) and common data analytics tools (e.g., Python, R, Tensorflow etc).Experience with Database Technologies (SQL, NoSQL), Big Data Technologies (Hadoop, Hive, Spark) and Cloud Technologies (AWS, GCP).Ability to work independently and with team members from different backgrounds.Ability to present complex data and analytics insights in the most effective ways and communicate a compelling story.Strong problem solving and critical thinking skills.Positive attitude towards learning on-the-job and strive in a rapidly changing environment.',\n",
       " 'Mentor junior teammates in developing clean, optimized python code.Drive project deliverables, architecture design and code design.Multi-task on multiple projects from different groups.Communicate project timelines in an agile work environment.Gather requirements from multiple stakeholders and prioritize.Create Python flowsWhat You Need for this PositionYou should have knowledge of:PythonLinearSQL / NoSQLRegression models',\n",
       " 'The Data Engineer is responsible for supporting Snaplogic ETL, AWS Redshift, RDS, and Aurora environments, exploring performance improvement opportunities, and troubleshooting data ingestion and user queries issues. This individual will perform typical database administrative tasks such as managing user accounts, monitoring system capacity usage and performance, balancing system workload, identifying root cause of issues raised by users and provide solution proposals, as well as supporting and enhancing data ingestion processes developed by other development teams.This individual will work with business users to identify performance improvement opportunities and implement them in the order based upon urgency and priority. In addition, this individual will identify data integration, ETL and quality issues, investigate issues identified by others, research and implement solutions to correct problems (at the source where possible), collaborate with developers to correct historical data, develop reports and monitoring programs, and execute data integration initiatives.Job Responsibilities:Manage user accounts and security in the Redshift, RDS, and Aurora environmentsMonitor and manage system workloads in order to keep all the systems running smoothly and minimize bottlenecks.Configure system connections between data sources and targets.Assist users in debugging query failure issues and data quality problemsAnalyze objects such as tables and views designed and deployed by the development teams and users, provide best practice solution proposalsAnalyze queries from users, identify performance improvement opportunities, and assist users to improve performanceAnalyze and manage disk space usages by users, and provide best practice to development teams and business usersMaintain, modify and enhance data ingestion processes per development teams requestDevelop and deploy data load processes per business users request, including tables, views, and data load ETL pipelines design and developmentCreate native connections between Redshift, RDS, and AuroraDevelop and maintain metrics programs to monitor system usages and performanceManage data Redshift archiving processesDevelop Redshift Spectrum objectsSupport Engineering and Manufacturing Datawarehouse and related data systems and initiativesSolve moderate to complex data quality/ data integration problemsRecognize and investigate anomalies and propose solutionsResearch and recommend innovative, and where possible automated, approaches for data issuesMonitor ETL pipelines, troubleshoot and address any issues.Liaison with business users and Subject matter Experts to find permanent solution to recurring issues.Work closely with managed service providers in streamlining production support processes.Required Qualifications:Bachelor s degree in computer science, Information Systems, (or a related field) or a minimum of seven years of relevant professional experience and training7 to 9 years Data Engineer or Support Engineer roles3+ year AWS Redshift experience2+ year experience in performance tuning and optimization of any SQL databases3+ year supporting ETL packaged software like Informatica or SnapLogicFamiliarity with concept of and experiences in performance tuning approaches related to MPP databasesProficient in SQLExperiences in data modeling, including logical and physical design, normalization and denormalizationExpertise in performance tuning in one or more RDBMS such as Postgres, MySQL, Oracle, DB2, MS SQL, etc.Experiences in programing tools such as Linux shell scripting, Python, Java, etc.Experiences in analysis, Design, Development and Implementation of ETL and exposure to any commercial ETL tools (Snaplogic, Informatica, Alteryx, Matillion) and reporting (Tableau, Spotfire) tools will be an advantage but not mandatory.Effectively and efficiently work with an enterprise environment involving very large data sets - millions of records in both databases and flat filesExperienced in requirements analysis, design, and development in the data Management application areasResponsible for working with cross-functional and cross-organizational teams to understand issues, implement solutions, and influence others to implement solutionsAble to be comfortable in a fast-paced environment with constantly shifting priorities and a mix of quick hit, short, medium and long-term projects of varying prioritiesHigh-tech, or manufacturing industry experience preferred but not requiredExcellent communication, facilitation, and interpersonal relations skills required',\n",
       " '--',\n",
       " 'As a Senior Data Scientist for Walmart, you ll have the opportunity to:Drive data-derived insights across a wide range of divisions by developing advanced statistical models, machine learning algorithms and computational algorithms based on business initiativesDirect the gathering of data, assessing data validity and synthesizing data into large analytics datasets to support project goalsUtilize big data analytics and advanced data science techniques to identify trends, patterns, and discrepancies in data. Determine additional data needed to support insightsBuild and train statistical models and machine learning algorithmsApply your semantic, natural language processing and understanding expertise where requiredUse deep learning and image recognition project goalsComputer Vision will be an important focus area for this roleProductionize the models and make those available at scaleBuild and maintain end to end Machine Learning pipelinesBe comfortable with ambiguity and uncertainty and the eagerness to change the world in a huge way by being a self-motivated learner and builderCommunicate recommendations to business partners and influencing future plans based on insightsYour ResponsibilityPlay a key role to solve complex problems, pivotal to Walmart s business and drive actionable insights from petabytes of dataUtilize product mindset to build, scale and deploy holistic data science products after successful prototypingDemonstrate incremental solution approach with agile and flexible ability to overcome practical problemsPartner with senior team members to assess customer needs and define business questionsClearly articulate and present recommendations to business partners, and influence future plans based on insightsWork with customer centric mindset to deliver high quality business driven analytic solutionDrive innovation in approach, method, practices, process, outcome, delivery, or any component of end-to-end problem solvingDemonstrates up-to-date expertise and applies this to the development, execution, and improvement of action plansPreferred QualificationsBachelors degree in Statistics, Mathematics, Computer Science or a related field and 8 years experience in an analytics/DS related field, or,Masters degree in Statistics, Mathematics, Computer Science or a related field and 6 years experience in an analytics/DS related field.High proficiency in data mining, modeling, validation and insight generation.Excellent working knowledge of statistics, mathematics, machine learning, data mining, deep learningHigh proficiency in coding including Python and SQLExperience with databases (for example, DB2, Oracle, SQL Server)Experience with Big Data technologies such as Pig, Hive and/or SparkAbility to work with large data sets. Has sound understanding of big data technology stackUnderstanding of cloud computing platforms and large-scale databasesProven ability to collaborate and work in teamsExcellent with communications and stakeholder engagementData science publications in recognized platforms/journalsProven ability to work in agile mode on data science sprint projects',\n",
       " 'Responsibilities include:Defining and evaluating key metrics and understanding what moves them and whyOwnership of conceptualizing, developing, and maintaining dashboards and visualizationsInvestigating evolving fraud trends to extract patterns, identify root causes and propose actionable solutionsCommunicating analyses and recommendations to cross functional stakeholders for decision makingEmpowering the team to answer data questions quickly and easily by building high-quality ground truth data setsHere are example traits we value:Professional industry experience in a quantitative analysis role (7+ years preferred)Comfortable in SQL and some experience with a programming language (Python or R a plus)Ability to communicate clearly and effectively to cross functional partners of varying technical levelsAbility to define relevant metrics that can guide and influence stakeholders to the appropriate and accurate insightsExperience or willingness to learn tools to create data pipelines using AirflowBuilding clear and easy to understand dashboards (Tableau) and presentations']"
      ]
     },
     "execution_count": 225,
     "metadata": {},
     "output_type": "execute_result"
    }
   ],
   "source": [
    "desc=[]\n",
    "for i in job_opening:\n",
    "    driver.get(i)\n",
    "    \n",
    "    try:\n",
    "        job_desc=driver.find_element_by_xpath('//div[@class=\"dang-inner-html\"]')\n",
    "        desc.append(job_desc.text.replace(\"\\n\",\"\"))\n",
    "    except:\n",
    "        desc.append(\"--\")\n",
    "\n",
    "desc"
   ]
  },
  {
   "cell_type": "code",
   "execution_count": 226,
   "id": "93465e18",
   "metadata": {},
   "outputs": [
    {
     "data": {
      "text/html": [
       "<div>\n",
       "<style scoped>\n",
       "    .dataframe tbody tr th:only-of-type {\n",
       "        vertical-align: middle;\n",
       "    }\n",
       "\n",
       "    .dataframe tbody tr th {\n",
       "        vertical-align: top;\n",
       "    }\n",
       "\n",
       "    .dataframe thead th {\n",
       "        text-align: right;\n",
       "    }\n",
       "</style>\n",
       "<table border=\"1\" class=\"dataframe\">\n",
       "  <thead>\n",
       "    <tr style=\"text-align: right;\">\n",
       "      <th></th>\n",
       "      <th>Title</th>\n",
       "      <th>Location</th>\n",
       "      <th>Company</th>\n",
       "      <th>Job Description</th>\n",
       "    </tr>\n",
       "  </thead>\n",
       "  <tbody>\n",
       "    <tr>\n",
       "      <th>0</th>\n",
       "      <td>Hiring For Data Scientist</td>\n",
       "      <td>Chennai, Bangalore/Bengaluru, Mumbai (All Areas)</td>\n",
       "      <td>Tata Consultancy Services Ltd.</td>\n",
       "      <td>Minumum 3 years of experience in Data Science/...</td>\n",
       "    </tr>\n",
       "    <tr>\n",
       "      <th>1</th>\n",
       "      <td>Lead Data Scientist BFSI</td>\n",
       "      <td>(WFH during Covid)</td>\n",
       "      <td>IBM India Pvt. Limited</td>\n",
       "      <td>--</td>\n",
       "    </tr>\n",
       "    <tr>\n",
       "      <th>2</th>\n",
       "      <td>Associate Data Scientist</td>\n",
       "      <td>Bengaluru/Bangalore</td>\n",
       "      <td>Philips India Limited</td>\n",
       "      <td>Use predictive modeling to increase and optimi...</td>\n",
       "    </tr>\n",
       "    <tr>\n",
       "      <th>3</th>\n",
       "      <td>Data Scientist</td>\n",
       "      <td>Bangalore/Bengaluru</td>\n",
       "      <td>IHS Markit</td>\n",
       "      <td>The Automotive Supply Chain and Technology t...</td>\n",
       "    </tr>\n",
       "    <tr>\n",
       "      <th>4</th>\n",
       "      <td>Data Scientist 3</td>\n",
       "      <td>Bangalore/Bengaluru</td>\n",
       "      <td>Western Digital</td>\n",
       "      <td>Engage with Analytics Business Partners (ABP...</td>\n",
       "    </tr>\n",
       "    <tr>\n",
       "      <th>5</th>\n",
       "      <td>Data scientist</td>\n",
       "      <td>Bangalore/Bengaluru</td>\n",
       "      <td>Bloom Consulting Services, Inc.</td>\n",
       "      <td>Mentor junior teammates in developing clean, o...</td>\n",
       "    </tr>\n",
       "    <tr>\n",
       "      <th>6</th>\n",
       "      <td>Data Scientist 4</td>\n",
       "      <td>United States (USA), Bangalore/Bengaluru</td>\n",
       "      <td>Western Digital</td>\n",
       "      <td>The Data Engineer is responsible for supportin...</td>\n",
       "    </tr>\n",
       "    <tr>\n",
       "      <th>7</th>\n",
       "      <td>Data Scientist: Advanced Analytics</td>\n",
       "      <td>Bangalore/Bengaluru</td>\n",
       "      <td>IBM India Pvt. Limited</td>\n",
       "      <td>--</td>\n",
       "    </tr>\n",
       "    <tr>\n",
       "      <th>8</th>\n",
       "      <td>Senior Data Scientist</td>\n",
       "      <td>Bengaluru/Bangalore</td>\n",
       "      <td>Walmart Labs</td>\n",
       "      <td>As a Senior Data Scientist for Walmart, you ll...</td>\n",
       "    </tr>\n",
       "    <tr>\n",
       "      <th>9</th>\n",
       "      <td>Senior Data Scientist</td>\n",
       "      <td>Bangalore/Bengaluru</td>\n",
       "      <td>Airbnb</td>\n",
       "      <td>Responsibilities include:Defining and evaluati...</td>\n",
       "    </tr>\n",
       "  </tbody>\n",
       "</table>\n",
       "</div>"
      ],
      "text/plain": [
       "                                Title  \\\n",
       "0           Hiring For Data Scientist   \n",
       "1            Lead Data Scientist BFSI   \n",
       "2            Associate Data Scientist   \n",
       "3                      Data Scientist   \n",
       "4                    Data Scientist 3   \n",
       "5                      Data scientist   \n",
       "6                    Data Scientist 4   \n",
       "7  Data Scientist: Advanced Analytics   \n",
       "8               Senior Data Scientist   \n",
       "9               Senior Data Scientist   \n",
       "\n",
       "                                           Location  \\\n",
       "0  Chennai, Bangalore/Bengaluru, Mumbai (All Areas)   \n",
       "1                                (WFH during Covid)   \n",
       "2                               Bengaluru/Bangalore   \n",
       "3                               Bangalore/Bengaluru   \n",
       "4                               Bangalore/Bengaluru   \n",
       "5                               Bangalore/Bengaluru   \n",
       "6          United States (USA), Bangalore/Bengaluru   \n",
       "7                               Bangalore/Bengaluru   \n",
       "8                               Bengaluru/Bangalore   \n",
       "9                               Bangalore/Bengaluru   \n",
       "\n",
       "                           Company  \\\n",
       "0   Tata Consultancy Services Ltd.   \n",
       "1           IBM India Pvt. Limited   \n",
       "2            Philips India Limited   \n",
       "3                       IHS Markit   \n",
       "4                  Western Digital   \n",
       "5  Bloom Consulting Services, Inc.   \n",
       "6                  Western Digital   \n",
       "7           IBM India Pvt. Limited   \n",
       "8                     Walmart Labs   \n",
       "9                           Airbnb   \n",
       "\n",
       "                                     Job Description  \n",
       "0  Minumum 3 years of experience in Data Science/...  \n",
       "1                                                 --  \n",
       "2  Use predictive modeling to increase and optimi...  \n",
       "3    The Automotive Supply Chain and Technology t...  \n",
       "4    Engage with Analytics Business Partners (ABP...  \n",
       "5  Mentor junior teammates in developing clean, o...  \n",
       "6  The Data Engineer is responsible for supportin...  \n",
       "7                                                 --  \n",
       "8  As a Senior Data Scientist for Walmart, you ll...  \n",
       "9  Responsibilities include:Defining and evaluati...  "
      ]
     },
     "execution_count": 226,
     "metadata": {},
     "output_type": "execute_result"
    }
   ],
   "source": [
    "#making dataframe\n",
    "\n",
    "jobs= pd.DataFrame({})\n",
    "jobs['Title']=title\n",
    "jobs['Location']=location\n",
    "jobs['Company']=company\n",
    "jobs['Job Description']=desc\n",
    "jobs"
   ]
  },
  {
   "cell_type": "markdown",
   "id": "206b5eaf",
   "metadata": {},
   "source": [
    "# Q3: In this question you have to scrape data using the filters available on the webpage as shown below:\n",
    "# You have to use the location and salary filter.\n",
    "# You have to scrape data for “Data Scientist” designation for first 10 job results.\n",
    "# You have to scrape the job-title, job-location, company_name,\n",
    "# experience_required.\n",
    "# The location filter to be used is “Delhi/NCR”\n",
    "# The salary filter to be used is “3-6” lakhs"
   ]
  },
  {
   "cell_type": "code",
   "execution_count": 186,
   "id": "d799646a",
   "metadata": {},
   "outputs": [],
   "source": [
    "import undetected_chromedriver as uc\n",
    "\n",
    "# path for chromedriver\n",
    "\n",
    "options = webdriver.ChromeOptions() \n",
    "\n",
    "options.add_argument(\"start-maximized\")\n",
    "\n",
    "\n",
    "\n",
    "# path for chromedriver\n",
    "\n",
    "options = webdriver.ChromeOptions() \n",
    "\n",
    "options.add_argument(\"start-maximized\")\n",
    "\n",
    "driver = uc.Chrome(executable_path='C:/Users/nehap/Downloads/chromedriver.exe', options=options)\n",
    "\n",
    "\n",
    "\n",
    "url = \"https://www.naukri.com/\"\n",
    "\n",
    "driver.get(url)"
   ]
  },
  {
   "cell_type": "code",
   "execution_count": 187,
   "id": "68828b17",
   "metadata": {},
   "outputs": [],
   "source": [
    "designation= driver.find_element_by_xpath('//input[@class=\"sugInp\"]')\n",
    "designation.send_keys('Data Scientist')"
   ]
  },
  {
   "cell_type": "code",
   "execution_count": 188,
   "id": "1805077a",
   "metadata": {},
   "outputs": [],
   "source": [
    "search= driver.find_element_by_xpath('//button[@class=\"btn\"]')\n",
    "search.click()"
   ]
  },
  {
   "cell_type": "code",
   "execution_count": 190,
   "id": "c4b0b604",
   "metadata": {},
   "outputs": [],
   "source": [
    "loc= driver.find_element_by_xpath('//label[@for=\"chk-Delhi / NCR-cityTypeGid-\"]//i')\n",
    "loc.click()"
   ]
  },
  {
   "cell_type": "code",
   "execution_count": 191,
   "id": "efd37096",
   "metadata": {},
   "outputs": [],
   "source": [
    "salary= driver.find_element_by_xpath('//label[@for=\"chk-3-6 Lakhs-ctcFilter-\"]//i')\n",
    "salary.click()"
   ]
  },
  {
   "cell_type": "code",
   "execution_count": 192,
   "id": "b0082989",
   "metadata": {},
   "outputs": [
    {
     "data": {
      "text/plain": [
       "['Data Scientist - Insurance',\n",
       " 'Only Fresher / Data Scientist / Data Analyst / Analytics - MNC Jobs',\n",
       " 'Data Scientist / Data Analyst / Business Analytics - MNC Jobs Freshers',\n",
       " 'Data Scientist',\n",
       " 'Data Analyst/Data Scientist',\n",
       " 'Data Scientist/ Machine Learning Engineer',\n",
       " 'Data Scientist / Data Analyst',\n",
       " 'Data Scientist-immediate Joiners',\n",
       " 'Data Scientist',\n",
       " 'Data Scientist - WFH - MIND Infotech']"
      ]
     },
     "execution_count": 192,
     "metadata": {},
     "output_type": "execute_result"
    }
   ],
   "source": [
    "job_title= driver.find_elements_by_xpath('//a[@class=\"title fw500 ellipsis\"]')\n",
    "title=[]\n",
    "for i in job_title[0:10]:\n",
    "    title.append(i.text)\n",
    "title"
   ]
  },
  {
   "cell_type": "code",
   "execution_count": 193,
   "id": "27ace93d",
   "metadata": {},
   "outputs": [
    {
     "data": {
      "text/plain": [
       "['Noida, Gurgaon/Gurugram',\n",
       " 'Noida, Gurgaon/Gurugram, Delhi / NCR',\n",
       " 'Noida, New Delhi, Gurgaon/Gurugram',\n",
       " 'Noida',\n",
       " 'Bangalore/Bengaluru, Delhi / NCR, Mumbai (All Areas)',\n",
       " 'Hyderabad/Secunderabad, Pune, Ahmedabad, Gurgaon/Gurugram, Chennai, Bangalore/Bengaluru',\n",
       " 'Gurgaon/Gurugram',\n",
       " 'Noida',\n",
       " 'Gurgaon/Gurugram',\n",
       " 'Pune, Chennai, Bangalore/Bengaluru, Delhi / NCR, Mumbai (All Areas)']"
      ]
     },
     "execution_count": 193,
     "metadata": {},
     "output_type": "execute_result"
    }
   ],
   "source": [
    "job_loc= driver.find_elements_by_xpath('//li[@class=\"fleft grey-text br2 placeHolderLi location\"]//span[1]')\n",
    "loc=[]\n",
    "for i in job_loc[0:10]:\n",
    "    loc.append(i.text)\n",
    "loc"
   ]
  },
  {
   "cell_type": "code",
   "execution_count": 194,
   "id": "1a6dfe48",
   "metadata": {},
   "outputs": [
    {
     "data": {
      "text/plain": [
       "['Huquo Consulting Pvt. Ltd',\n",
       " 'GABA Consultancy services',\n",
       " 'GABA Consultancy services',\n",
       " 'R Systems International Ltd.\\n3.2\\n(322 Reviews)',\n",
       " 'Skillenable Fintech Private Limited',\n",
       " 'Creative Hands HR Consultancy',\n",
       " 'CARS24\\n3.6\\n(710 Reviews)',\n",
       " 'Quikruit Consulting LLP',\n",
       " 'PROCESS NINE TECHNOLOGIES PVT.LTD.\\n2.7\\n(11 Reviews)',\n",
       " 'MOTHERSONSUMI INFOTECH & DESIGNS LIMITED\\n3.3\\n(158 Reviews)']"
      ]
     },
     "execution_count": 194,
     "metadata": {},
     "output_type": "execute_result"
    }
   ],
   "source": [
    "company= driver.find_elements_by_xpath('//div[@class=\"mt-7 companyInfo subheading lh16\"]')\n",
    "comp=[]\n",
    "for i in company[0:10]:\n",
    "    comp.append(i.text)\n",
    "comp"
   ]
  },
  {
   "cell_type": "code",
   "execution_count": 195,
   "id": "3c87d9fb",
   "metadata": {},
   "outputs": [
    {
     "data": {
      "text/plain": [
       "['2-7 Yrs',\n",
       " '0-0 Yrs',\n",
       " '0-0 Yrs',\n",
       " '3-6 Yrs',\n",
       " '2-5 Yrs',\n",
       " '0-0 Yrs',\n",
       " '1-5 Yrs',\n",
       " '2-5 Yrs',\n",
       " '1-3 Yrs',\n",
       " '3-7 Yrs']"
      ]
     },
     "execution_count": 195,
     "metadata": {},
     "output_type": "execute_result"
    }
   ],
   "source": [
    "experience= driver.find_elements_by_xpath('//li[@class=\"fleft grey-text br2 placeHolderLi experience\"]//span')\n",
    "exp=[]\n",
    "for i in experience[0:10]:\n",
    "    exp.append(i.text)\n",
    "exp"
   ]
  },
  {
   "cell_type": "code",
   "execution_count": 196,
   "id": "5771a808",
   "metadata": {},
   "outputs": [
    {
     "data": {
      "text/html": [
       "<div>\n",
       "<style scoped>\n",
       "    .dataframe tbody tr th:only-of-type {\n",
       "        vertical-align: middle;\n",
       "    }\n",
       "\n",
       "    .dataframe tbody tr th {\n",
       "        vertical-align: top;\n",
       "    }\n",
       "\n",
       "    .dataframe thead th {\n",
       "        text-align: right;\n",
       "    }\n",
       "</style>\n",
       "<table border=\"1\" class=\"dataframe\">\n",
       "  <thead>\n",
       "    <tr style=\"text-align: right;\">\n",
       "      <th></th>\n",
       "      <th>Title</th>\n",
       "      <th>Company</th>\n",
       "      <th>Location</th>\n",
       "      <th>Experience</th>\n",
       "    </tr>\n",
       "  </thead>\n",
       "  <tbody>\n",
       "    <tr>\n",
       "      <th>0</th>\n",
       "      <td>Data Scientist - Insurance</td>\n",
       "      <td>Huquo Consulting Pvt. Ltd</td>\n",
       "      <td>Noida, Gurgaon/Gurugram</td>\n",
       "      <td>2-7 Yrs</td>\n",
       "    </tr>\n",
       "    <tr>\n",
       "      <th>1</th>\n",
       "      <td>Only Fresher / Data Scientist / Data Analyst /...</td>\n",
       "      <td>GABA Consultancy services</td>\n",
       "      <td>Noida, Gurgaon/Gurugram, Delhi / NCR</td>\n",
       "      <td>0-0 Yrs</td>\n",
       "    </tr>\n",
       "    <tr>\n",
       "      <th>2</th>\n",
       "      <td>Data Scientist / Data Analyst / Business Analy...</td>\n",
       "      <td>GABA Consultancy services</td>\n",
       "      <td>Noida, New Delhi, Gurgaon/Gurugram</td>\n",
       "      <td>0-0 Yrs</td>\n",
       "    </tr>\n",
       "    <tr>\n",
       "      <th>3</th>\n",
       "      <td>Data Scientist</td>\n",
       "      <td>R Systems International Ltd.\\n3.2\\n(322 Reviews)</td>\n",
       "      <td>Noida</td>\n",
       "      <td>3-6 Yrs</td>\n",
       "    </tr>\n",
       "    <tr>\n",
       "      <th>4</th>\n",
       "      <td>Data Analyst/Data Scientist</td>\n",
       "      <td>Skillenable Fintech Private Limited</td>\n",
       "      <td>Bangalore/Bengaluru, Delhi / NCR, Mumbai (All ...</td>\n",
       "      <td>2-5 Yrs</td>\n",
       "    </tr>\n",
       "    <tr>\n",
       "      <th>5</th>\n",
       "      <td>Data Scientist/ Machine Learning Engineer</td>\n",
       "      <td>Creative Hands HR Consultancy</td>\n",
       "      <td>Hyderabad/Secunderabad, Pune, Ahmedabad, Gurga...</td>\n",
       "      <td>0-0 Yrs</td>\n",
       "    </tr>\n",
       "    <tr>\n",
       "      <th>6</th>\n",
       "      <td>Data Scientist / Data Analyst</td>\n",
       "      <td>CARS24\\n3.6\\n(710 Reviews)</td>\n",
       "      <td>Gurgaon/Gurugram</td>\n",
       "      <td>1-5 Yrs</td>\n",
       "    </tr>\n",
       "    <tr>\n",
       "      <th>7</th>\n",
       "      <td>Data Scientist-immediate Joiners</td>\n",
       "      <td>Quikruit Consulting LLP</td>\n",
       "      <td>Noida</td>\n",
       "      <td>2-5 Yrs</td>\n",
       "    </tr>\n",
       "    <tr>\n",
       "      <th>8</th>\n",
       "      <td>Data Scientist</td>\n",
       "      <td>PROCESS NINE TECHNOLOGIES PVT.LTD.\\n2.7\\n(11 R...</td>\n",
       "      <td>Gurgaon/Gurugram</td>\n",
       "      <td>1-3 Yrs</td>\n",
       "    </tr>\n",
       "    <tr>\n",
       "      <th>9</th>\n",
       "      <td>Data Scientist - WFH - MIND Infotech</td>\n",
       "      <td>MOTHERSONSUMI INFOTECH &amp; DESIGNS LIMITED\\n3.3\\...</td>\n",
       "      <td>Pune, Chennai, Bangalore/Bengaluru, Delhi / NC...</td>\n",
       "      <td>3-7 Yrs</td>\n",
       "    </tr>\n",
       "  </tbody>\n",
       "</table>\n",
       "</div>"
      ],
      "text/plain": [
       "                                               Title  \\\n",
       "0                         Data Scientist - Insurance   \n",
       "1  Only Fresher / Data Scientist / Data Analyst /...   \n",
       "2  Data Scientist / Data Analyst / Business Analy...   \n",
       "3                                     Data Scientist   \n",
       "4                        Data Analyst/Data Scientist   \n",
       "5          Data Scientist/ Machine Learning Engineer   \n",
       "6                      Data Scientist / Data Analyst   \n",
       "7                   Data Scientist-immediate Joiners   \n",
       "8                                     Data Scientist   \n",
       "9               Data Scientist - WFH - MIND Infotech   \n",
       "\n",
       "                                             Company  \\\n",
       "0                          Huquo Consulting Pvt. Ltd   \n",
       "1                          GABA Consultancy services   \n",
       "2                          GABA Consultancy services   \n",
       "3   R Systems International Ltd.\\n3.2\\n(322 Reviews)   \n",
       "4                Skillenable Fintech Private Limited   \n",
       "5                      Creative Hands HR Consultancy   \n",
       "6                         CARS24\\n3.6\\n(710 Reviews)   \n",
       "7                            Quikruit Consulting LLP   \n",
       "8  PROCESS NINE TECHNOLOGIES PVT.LTD.\\n2.7\\n(11 R...   \n",
       "9  MOTHERSONSUMI INFOTECH & DESIGNS LIMITED\\n3.3\\...   \n",
       "\n",
       "                                            Location Experience  \n",
       "0                            Noida, Gurgaon/Gurugram    2-7 Yrs  \n",
       "1               Noida, Gurgaon/Gurugram, Delhi / NCR    0-0 Yrs  \n",
       "2                 Noida, New Delhi, Gurgaon/Gurugram    0-0 Yrs  \n",
       "3                                              Noida    3-6 Yrs  \n",
       "4  Bangalore/Bengaluru, Delhi / NCR, Mumbai (All ...    2-5 Yrs  \n",
       "5  Hyderabad/Secunderabad, Pune, Ahmedabad, Gurga...    0-0 Yrs  \n",
       "6                                   Gurgaon/Gurugram    1-5 Yrs  \n",
       "7                                              Noida    2-5 Yrs  \n",
       "8                                   Gurgaon/Gurugram    1-3 Yrs  \n",
       "9  Pune, Chennai, Bangalore/Bengaluru, Delhi / NC...    3-7 Yrs  "
      ]
     },
     "execution_count": 196,
     "metadata": {},
     "output_type": "execute_result"
    }
   ],
   "source": [
    "jobs= pd.DataFrame({})\n",
    "jobs[\"Title\"]= title\n",
    "jobs[\"Company\"]= comp\n",
    "jobs[\"Location\"]= loc\n",
    "jobs[\"Experience\"]= exp\n",
    "jobs"
   ]
  },
  {
   "cell_type": "markdown",
   "id": "43b50f14",
   "metadata": {},
   "source": [
    "# Q4: Write a python program to scrape data for first 10 job results for Data scientist Designation in Noida location. You have to scrape company_name, No. of days ago when job was posted, Rating of the company."
   ]
  },
  {
   "cell_type": "code",
   "execution_count": 321,
   "id": "27353fde",
   "metadata": {},
   "outputs": [],
   "source": [
    "from selenium.common.exceptions import NoSuchElementException, ElementClickInterceptedException\n",
    "from selenium import webdriver\n",
    "import time\n",
    "import pandas as pd"
   ]
  },
  {
   "cell_type": "code",
   "execution_count": 324,
   "id": "6e15622e",
   "metadata": {},
   "outputs": [],
   "source": [
    "import undetected_chromedriver as uc\n",
    "\n",
    "# path for chromedriver\n",
    "\n",
    "options = webdriver.ChromeOptions() \n",
    "\n",
    "options.add_argument(\"start-maximized\")\n",
    "\n",
    "\n",
    "\n",
    "# path for chromedriver\n",
    "\n",
    "options = webdriver.ChromeOptions() \n",
    "\n",
    "options.add_argument(\"start-maximized\")\n",
    "\n",
    "driver = uc.Chrome(executable_path='C:/Users/nehap/Downloads/chromedriver.exe', options=options)\n",
    "\n",
    "\n",
    "\n",
    "url = \"https://www.glassdoor.co.in/index.htm\"\n",
    "\n",
    "driver.get(url)"
   ]
  },
  {
   "cell_type": "code",
   "execution_count": 326,
   "id": "d2da2aa9",
   "metadata": {},
   "outputs": [],
   "source": [
    "signin= driver.find_element_by_xpath('//button[@class=\"d-flex align-items-center justify-content-center order-1 order-md-2 mr-auto mr-md-0 p-0 LockedHomeHeaderStyles__signInButton\"]')\n",
    "signin.click()"
   ]
  },
  {
   "cell_type": "code",
   "execution_count": 327,
   "id": "b952f75b",
   "metadata": {},
   "outputs": [
    {
     "ename": "ElementNotInteractableException",
     "evalue": "Message: element not interactable\n  (Session info: chrome=92.0.4515.131)\n",
     "output_type": "error",
     "traceback": [
      "\u001b[1;31m---------------------------------------------------------------------------\u001b[0m",
      "\u001b[1;31mElementNotInteractableException\u001b[0m           Traceback (most recent call last)",
      "\u001b[1;32m<ipython-input-327-040ccf5e46c9>\u001b[0m in \u001b[0;36m<module>\u001b[1;34m\u001b[0m\n\u001b[0;32m      1\u001b[0m \u001b[0memail\u001b[0m\u001b[1;33m=\u001b[0m \u001b[0mdriver\u001b[0m\u001b[1;33m.\u001b[0m\u001b[0mfind_element_by_xpath\u001b[0m\u001b[1;33m(\u001b[0m\u001b[1;34m'//label[@for=\"userEmail\"]/span'\u001b[0m\u001b[1;33m)\u001b[0m\u001b[1;33m\u001b[0m\u001b[1;33m\u001b[0m\u001b[0m\n\u001b[0;32m      2\u001b[0m \u001b[0memail\u001b[0m\u001b[1;33m.\u001b[0m\u001b[0mclick\u001b[0m\u001b[1;33m(\u001b[0m\u001b[1;33m)\u001b[0m\u001b[1;33m\u001b[0m\u001b[1;33m\u001b[0m\u001b[0m\n\u001b[1;32m----> 3\u001b[1;33m \u001b[0memail\u001b[0m\u001b[1;33m.\u001b[0m\u001b[0msend_keys\u001b[0m\u001b[1;33m(\u001b[0m\u001b[1;34m\"nehapant9@gmail.com\"\u001b[0m\u001b[1;33m)\u001b[0m\u001b[1;33m\u001b[0m\u001b[1;33m\u001b[0m\u001b[0m\n\u001b[0m",
      "\u001b[1;32m~\\anaconda3\\lib\\site-packages\\selenium\\webdriver\\remote\\webelement.py\u001b[0m in \u001b[0;36msend_keys\u001b[1;34m(self, *value)\u001b[0m\n\u001b[0;32m    475\u001b[0m         \u001b[1;33m:\u001b[0m\u001b[0mRaises\u001b[0m\u001b[1;33m:\u001b[0m\u001b[1;33m\u001b[0m\u001b[1;33m\u001b[0m\u001b[0m\n\u001b[0;32m    476\u001b[0m          \u001b[1;33m-\u001b[0m \u001b[0mNoSuchElementException\u001b[0m \u001b[1;33m-\u001b[0m \u001b[1;32mif\u001b[0m \u001b[0mthe\u001b[0m \u001b[0melement\u001b[0m \u001b[0mwasn\u001b[0m\u001b[0;31m'\u001b[0m\u001b[0mt\u001b[0m \u001b[0mfound\u001b[0m\u001b[1;33m\u001b[0m\u001b[1;33m\u001b[0m\u001b[0m\n\u001b[1;32m--> 477\u001b[1;33m \u001b[1;33m\u001b[0m\u001b[0m\n\u001b[0m\u001b[0;32m    478\u001b[0m         \u001b[1;33m:\u001b[0m\u001b[0mUsage\u001b[0m\u001b[1;33m:\u001b[0m\u001b[1;33m\u001b[0m\u001b[1;33m\u001b[0m\u001b[0m\n\u001b[0;32m    479\u001b[0m             \u001b[1;33m:\u001b[0m\u001b[1;33m:\u001b[0m\u001b[1;33m\u001b[0m\u001b[1;33m\u001b[0m\u001b[0m\n",
      "\u001b[1;32m~\\anaconda3\\lib\\site-packages\\selenium\\webdriver\\remote\\webelement.py\u001b[0m in \u001b[0;36m_execute\u001b[1;34m(self, command, params)\u001b[0m\n\u001b[0;32m    631\u001b[0m            \u001b[0myour\u001b[0m \u001b[0mfilename\u001b[0m\u001b[1;33m.\u001b[0m\u001b[1;33m\u001b[0m\u001b[1;33m\u001b[0m\u001b[0m\n\u001b[0;32m    632\u001b[0m \u001b[1;33m\u001b[0m\u001b[0m\n\u001b[1;32m--> 633\u001b[1;33m         \u001b[1;33m:\u001b[0m\u001b[0mArgs\u001b[0m\u001b[1;33m:\u001b[0m\u001b[1;33m\u001b[0m\u001b[1;33m\u001b[0m\u001b[0m\n\u001b[0m\u001b[0;32m    634\u001b[0m          \u001b[1;33m-\u001b[0m \u001b[0mfilename\u001b[0m\u001b[1;33m:\u001b[0m \u001b[0mThe\u001b[0m \u001b[0mfull\u001b[0m \u001b[0mpath\u001b[0m \u001b[0myou\u001b[0m \u001b[0mwish\u001b[0m \u001b[0mto\u001b[0m \u001b[0msave\u001b[0m \u001b[0myour\u001b[0m \u001b[0mscreenshot\u001b[0m \u001b[0mto\u001b[0m\u001b[1;33m.\u001b[0m \u001b[0mThis\u001b[0m\u001b[1;33m\u001b[0m\u001b[1;33m\u001b[0m\u001b[0m\n\u001b[0;32m    635\u001b[0m            \u001b[0mshould\u001b[0m \u001b[0mend\u001b[0m \u001b[1;32mwith\u001b[0m \u001b[0ma\u001b[0m\u001b[0;31m \u001b[0m\u001b[0;31m`\u001b[0m\u001b[1;33m.\u001b[0m\u001b[0mpng\u001b[0m\u001b[0;31m`\u001b[0m \u001b[0mextension\u001b[0m\u001b[1;33m.\u001b[0m\u001b[1;33m\u001b[0m\u001b[1;33m\u001b[0m\u001b[0m\n",
      "\u001b[1;32m~\\anaconda3\\lib\\site-packages\\selenium\\webdriver\\remote\\webdriver.py\u001b[0m in \u001b[0;36mexecute\u001b[1;34m(self, driver_command, params)\u001b[0m\n\u001b[0;32m    319\u001b[0m         \u001b[1;32mpass\u001b[0m\u001b[1;33m\u001b[0m\u001b[1;33m\u001b[0m\u001b[0m\n\u001b[0;32m    320\u001b[0m \u001b[1;33m\u001b[0m\u001b[0m\n\u001b[1;32m--> 321\u001b[1;33m     \u001b[1;32mdef\u001b[0m \u001b[0mstart_session\u001b[0m\u001b[1;33m(\u001b[0m\u001b[0mself\u001b[0m\u001b[1;33m,\u001b[0m \u001b[0mcapabilities\u001b[0m\u001b[1;33m:\u001b[0m \u001b[0mdict\u001b[0m\u001b[1;33m,\u001b[0m \u001b[0mbrowser_profile\u001b[0m\u001b[1;33m=\u001b[0m\u001b[1;32mNone\u001b[0m\u001b[1;33m)\u001b[0m \u001b[1;33m->\u001b[0m \u001b[0mNoReturn\u001b[0m\u001b[1;33m:\u001b[0m\u001b[1;33m\u001b[0m\u001b[1;33m\u001b[0m\u001b[0m\n\u001b[0m\u001b[0;32m    322\u001b[0m         \"\"\"\n\u001b[0;32m    323\u001b[0m         \u001b[0mCreates\u001b[0m \u001b[0ma\u001b[0m \u001b[0mnew\u001b[0m \u001b[0msession\u001b[0m \u001b[1;32mwith\u001b[0m \u001b[0mthe\u001b[0m \u001b[0mdesired\u001b[0m \u001b[0mcapabilities\u001b[0m\u001b[1;33m.\u001b[0m\u001b[1;33m\u001b[0m\u001b[1;33m\u001b[0m\u001b[0m\n",
      "\u001b[1;32m~\\anaconda3\\lib\\site-packages\\selenium\\webdriver\\remote\\errorhandler.py\u001b[0m in \u001b[0;36mcheck_response\u001b[1;34m(self, response)\u001b[0m\n",
      "\u001b[1;31mElementNotInteractableException\u001b[0m: Message: element not interactable\n  (Session info: chrome=92.0.4515.131)\n"
     ]
    }
   ],
   "source": [
    "email= driver.find_element_by_xpath('//label[@for=\"userEmail\"]/span')\n",
    "email.click()\n",
    "email.send_keys(\"nehapant9@gmail.com\")"
   ]
  },
  {
   "cell_type": "code",
   "execution_count": null,
   "id": "24fa93c7",
   "metadata": {},
   "outputs": [],
   "source": []
  },
  {
   "cell_type": "markdown",
   "id": "e40c4ebe",
   "metadata": {},
   "source": [
    "# Q6 : Scrape data of first 100 sunglasses listings on flipkart.com. You have to scrape four attributes:\n",
    "# 1. Brand\n",
    "# 2. Product Description\n",
    "# 3. Price\n",
    "# 4. Discount %"
   ]
  },
  {
   "cell_type": "code",
   "execution_count": 228,
   "id": "80c268d1",
   "metadata": {},
   "outputs": [],
   "source": [
    "import pandas as pd\n",
    "import selenium\n",
    "from selenium import webdriver\n",
    "import time\n",
    "from selenium.common.exceptions import NoSuchElementException"
   ]
  },
  {
   "cell_type": "code",
   "execution_count": 303,
   "id": "4d6ffc32",
   "metadata": {},
   "outputs": [],
   "source": [
    "import undetected_chromedriver as uc\n",
    "\n",
    "# path for chromedriver\n",
    "\n",
    "options = webdriver.ChromeOptions() \n",
    "\n",
    "options.add_argument(\"start-maximized\")\n",
    "\n",
    "\n",
    "\n",
    "# path for chromedriver\n",
    "\n",
    "options = webdriver.ChromeOptions() \n",
    "\n",
    "options.add_argument(\"start-maximized\")\n",
    "\n",
    "driver = uc.Chrome(executable_path='C:/Users/nehap/Downloads/chromedriver.exe', options=options)\n",
    "\n",
    "\n",
    "\n",
    "url = \"https://www.flipkart.com/\"\n",
    "\n",
    "driver.get(url)"
   ]
  },
  {
   "cell_type": "code",
   "execution_count": 304,
   "id": "85ac8789",
   "metadata": {},
   "outputs": [],
   "source": [
    "close= driver.find_element_by_xpath('//button[@class=\"_2KpZ6l _2doB4z\"]')\n",
    "close.click()"
   ]
  },
  {
   "cell_type": "code",
   "execution_count": 305,
   "id": "604347b2",
   "metadata": {},
   "outputs": [],
   "source": [
    "search= driver.find_element_by_xpath('//input[@title=\"Search for products, brands and more\"]')\n",
    "search.send_keys(\"sunglasses\")"
   ]
  },
  {
   "cell_type": "code",
   "execution_count": 306,
   "id": "ecacf9ae",
   "metadata": {},
   "outputs": [],
   "source": [
    "search_btn= driver.find_element_by_xpath('//button[@class=\"L0Z3Pu\"]')\n",
    "search_btn.click()"
   ]
  },
  {
   "cell_type": "code",
   "execution_count": 315,
   "id": "b0003869",
   "metadata": {},
   "outputs": [
    {
     "ename": "AttributeError",
     "evalue": "'int' object has no attribute 'text'",
     "output_type": "error",
     "traceback": [
      "\u001b[1;31m---------------------------------------------------------------------------\u001b[0m",
      "\u001b[1;31mAttributeError\u001b[0m                            Traceback (most recent call last)",
      "\u001b[1;32m<ipython-input-315-8763f033ec00>\u001b[0m in \u001b[0;36m<module>\u001b[1;34m\u001b[0m\n\u001b[0;32m      3\u001b[0m     \u001b[0mbrand\u001b[0m\u001b[1;33m=\u001b[0m \u001b[0mdriver\u001b[0m\u001b[1;33m.\u001b[0m\u001b[0mfind_elements_by_xpath\u001b[0m\u001b[1;33m(\u001b[0m\u001b[1;34m'//div[@class=\"_2WkVRV\"]'\u001b[0m\u001b[1;33m)\u001b[0m\u001b[1;33m\u001b[0m\u001b[1;33m\u001b[0m\u001b[0m\n\u001b[0;32m      4\u001b[0m     \u001b[1;32mfor\u001b[0m \u001b[0mi\u001b[0m \u001b[1;32min\u001b[0m \u001b[0mrange\u001b[0m\u001b[1;33m(\u001b[0m\u001b[0mlen\u001b[0m\u001b[1;33m(\u001b[0m\u001b[0mbrand\u001b[0m\u001b[1;33m[\u001b[0m\u001b[1;36m0\u001b[0m\u001b[1;33m:\u001b[0m\u001b[1;36m100\u001b[0m\u001b[1;33m]\u001b[0m\u001b[1;33m)\u001b[0m\u001b[1;33m)\u001b[0m\u001b[1;33m:\u001b[0m\u001b[1;33m\u001b[0m\u001b[1;33m\u001b[0m\u001b[0m\n\u001b[1;32m----> 5\u001b[1;33m         \u001b[0mbrands\u001b[0m\u001b[1;33m.\u001b[0m\u001b[0mappend\u001b[0m\u001b[1;33m(\u001b[0m\u001b[0mi\u001b[0m\u001b[1;33m.\u001b[0m\u001b[0mtext\u001b[0m\u001b[1;33m)\u001b[0m\u001b[1;33m\u001b[0m\u001b[1;33m\u001b[0m\u001b[0m\n\u001b[0m\u001b[0;32m      6\u001b[0m     \u001b[0mbrands\u001b[0m\u001b[1;33m\u001b[0m\u001b[1;33m\u001b[0m\u001b[0m\n\u001b[0;32m      7\u001b[0m     \u001b[0mnext_button\u001b[0m\u001b[1;33m=\u001b[0m \u001b[0mdriver\u001b[0m\u001b[1;33m.\u001b[0m\u001b[0mfind_element_by_xpath\u001b[0m\u001b[1;33m(\u001b[0m\u001b[1;34m'//nav[@class=\"yFHi8N\"]/a[12]/span'\u001b[0m\u001b[1;33m)\u001b[0m\u001b[1;33m\u001b[0m\u001b[1;33m\u001b[0m\u001b[0m\n",
      "\u001b[1;31mAttributeError\u001b[0m: 'int' object has no attribute 'text'"
     ]
    }
   ],
   "source": [
    "brand=[]\n",
    "prod_desc=[]\n",
    "price=[]\n",
    "disc=[]\n",
    "\n",
    "for i in range(1,4):\n",
    "    scrap_data(brand,prod_desc,price,disc)\n",
    "    \n",
    "    \n",
    "    brands=[]\n",
    "    brand= driver.find_elements_by_xpath('//div[@class=\"_2WkVRV\"]')\n",
    "    for i in range(len(brand[0:100])):\n",
    "        brands.append(i.text)\n",
    "    brands\n",
    "    next_button= driver.find_element_by_xpath('//nav[@class=\"yFHi8N\"]/a[12]/span')\n",
    "    next_button.click()"
   ]
  },
  {
   "cell_type": "code",
   "execution_count": null,
   "id": "f02e839a",
   "metadata": {},
   "outputs": [],
   "source": []
  },
  {
   "cell_type": "markdown",
   "id": "33d4e837",
   "metadata": {},
   "source": [
    "# Q7: Scrape 100 reviews data from flipkart.com for iphone11 phone."
   ]
  },
  {
   "cell_type": "code",
   "execution_count": 328,
   "id": "a1074339",
   "metadata": {},
   "outputs": [],
   "source": [
    "import undetected_chromedriver as uc\n",
    "\n",
    "# path for chromedriver\n",
    "\n",
    "options = webdriver.ChromeOptions() \n",
    "\n",
    "options.add_argument(\"start-maximized\")\n",
    "\n",
    "\n",
    "\n",
    "# path for chromedriver\n",
    "\n",
    "options = webdriver.ChromeOptions() \n",
    "\n",
    "options.add_argument(\"start-maximized\")\n",
    "\n",
    "driver = uc.Chrome(executable_path='C:/Users/nehap/Downloads/chromedriver.exe', options=options)\n",
    "\n",
    "\n",
    "\n",
    "url = \"https://www.flipkart.com/apple-iphone-11-black-64-gb-includes\u0002earpods-power\u0002adapter/p/itm0f37c2240b217?pid=MOBFKCTSVZAXUHGR&lid=LSTMOBFKCTSVZAXUHGREPBFGI&marketplace\"\n",
    "\n",
    "driver.get(url)"
   ]
  },
  {
   "cell_type": "code",
   "execution_count": 330,
   "id": "d07a9457",
   "metadata": {},
   "outputs": [],
   "source": [
    "all_reviews=driver.find_element_by_xpath('//div[@class=\"_3UAT2v _16PBlm\"]/span')\n",
    "all_reviews.click()"
   ]
  },
  {
   "cell_type": "code",
   "execution_count": null,
   "id": "15030874",
   "metadata": {},
   "outputs": [],
   "source": []
  },
  {
   "cell_type": "code",
   "execution_count": null,
   "id": "75417074",
   "metadata": {},
   "outputs": [],
   "source": []
  },
  {
   "cell_type": "markdown",
   "id": "0ad4957a",
   "metadata": {},
   "source": [
    "# Q10. Scrape first 10 laptops data from Amazon"
   ]
  },
  {
   "cell_type": "code",
   "execution_count": 279,
   "id": "66b98422",
   "metadata": {},
   "outputs": [],
   "source": [
    "import undetected_chromedriver as uc\n",
    "\n",
    "# path for chromedriver\n",
    "\n",
    "options = webdriver.ChromeOptions() \n",
    "\n",
    "options.add_argument(\"start-maximized\")\n",
    "\n",
    "\n",
    "\n",
    "# path for chromedriver\n",
    "\n",
    "options = webdriver.ChromeOptions() \n",
    "\n",
    "options.add_argument(\"start-maximized\")\n",
    "\n",
    "driver = uc.Chrome(executable_path='C:/Users/nehap/Downloads/chromedriver.exe', options=options)\n",
    "\n",
    "\n",
    "\n",
    "url = \"https://www.amazon.in/\"\n",
    "\n",
    "driver.get(url)"
   ]
  },
  {
   "cell_type": "code",
   "execution_count": 280,
   "id": "c37a4cfc",
   "metadata": {},
   "outputs": [],
   "source": [
    "item= driver.find_element_by_id(\"twotabsearchtextbox\")\n",
    "item.send_keys(\"Laptop\")"
   ]
  },
  {
   "cell_type": "code",
   "execution_count": 281,
   "id": "79560479",
   "metadata": {},
   "outputs": [],
   "source": [
    "search= driver.find_element_by_id(\"nav-search-submit-button\")\n",
    "search.click()"
   ]
  },
  {
   "cell_type": "code",
   "execution_count": 282,
   "id": "82a1a4e4",
   "metadata": {},
   "outputs": [],
   "source": [
    "filter1= driver.find_elements_by_xpath('//a[@class=\"a-link-normal s-navigation-item\"]/span')\n",
    "for i in filter1:\n",
    "    if i.text==\"Intel Core i7\":\n",
    "        i.click()\n",
    "        break"
   ]
  },
  {
   "cell_type": "code",
   "execution_count": 283,
   "id": "f413fbcf",
   "metadata": {},
   "outputs": [],
   "source": [
    "filter1= driver.find_elements_by_xpath('//a[@class=\"a-link-normal s-navigation-item\"]/span')\n",
    "for i in filter1:\n",
    "    if i.text==\"Intel Core i9\":\n",
    "        i.click()\n",
    "        break"
   ]
  },
  {
   "cell_type": "code",
   "execution_count": 284,
   "id": "b0e6d827",
   "metadata": {},
   "outputs": [
    {
     "data": {
      "text/plain": [
       "['ASUS TUF Dash F15 (2021), 15.6\" (39.62 cms) FHD 144Hz, Intel Core i7-11370H 11th Gen, RTX 3050 Ti 4GB Graphics, Gaming Laptop (16GB/1TB SSD/Office 2019/Windows 10/Eclipse Gray/2 kg), FX516PE-HN088TS',\n",
       " 'Dell XPS 9370 13.3-inch FHD Display Thin & Light Laptop (8th Gen i7-8550U/16GB/512GB SSD/Win 10 + MS Office/Integrated Graphics), Gold',\n",
       " 'Lenovo IdeaPad S540 11th Gen Intel Core i7 13.3\" QHD IPS Thin & Light Laptop (16GB/512GB SSD/Windows 10/MS Office 2019/Intel Iris Xe Graphics/Iron Grey/1.28Kg), 82H1002CIN',\n",
       " 'Mi Notebook Horizon Edition 14 Intel Core i7-10510U 10th Gen Thin and Light Laptop(8GB/512GB SSD/Windows 10/Nvidia MX350 2GB Graphics/Grey/1.35Kg)(Without Webcam) XMA1904-AF',\n",
       " 'ASUS TUF Dash F15 (2021), 15.6-inch (39.62 cms) FHD 144Hz, Intel Core i7-11370H 11th Gen, RTX 3050 4GB Graphics Gaming Laptop (16GB RAM/512GB SSD/Windows 10/Gray/2 kg), FX516PC-HN063T',\n",
       " 'ASUS TUF Dash F15 (2021) 15.6\" (39.62 cm) FHD 240Hz/3ms, Intel Core i7-11370H, GeForce RTX 3060 6GB Graphics, Gaming Laptop (16GB RAM/1TB SSD/Office 2019/Windows 10 Home/Gray/2 Kg) FX516PM-AZ153TS',\n",
       " 'Mi Notebook Pro QHD+ IPS Anti Glare Display Intel Core i7-11370H 11th Gen 14-inch(35.56 cms) Thin and Light Laptop (16GB/512GB SSD/Iris Xe Graphics/Win 10/Backlit KB/Fingerprint Sensor/1.4 Kg)',\n",
       " 'HP Pavilion Gaming 11th Gen Intel Core i7 15.6-inch(39.6 cm) FHD Gaming Laptop (16GB RAM/512GB SSD/144Hz/GTX 1650 4GB Graphics/Win 10/MS Office/Shadow Black/2.28 Kg), 15-dk2075tx',\n",
       " 'Fujitsu UH-X 11th Gen Intel i7 Core 13.3” (33.78cm) FHD IPS 400Nits Thin and Light Laptop (16GB/512GB SSD/Win10/Office/Iris Xe Graphics/Backlit Kb/ Fingerprint Reader/Black/878gms), 4ZR1D67596',\n",
       " 'HP Pavilion 13(2021) 11th Gen Intel Core i7 Laptop, 16GB RAM, 1TB SSD, 13.3-inch(33.8 cm) FHD Screen, Win 10, MS Office, Ceramic White, 1.24 Kg (13-bb0078TU)']"
      ]
     },
     "execution_count": 284,
     "metadata": {},
     "output_type": "execute_result"
    }
   ],
   "source": [
    "title= driver.find_elements_by_xpath('//h2[@class=\"a-size-mini a-spacing-none a-color-base s-line-clamp-2\"]//a//span')\n",
    "titles=[]\n",
    "for i in title[0:10]:\n",
    "    titles.append(i.text)\n",
    "titles"
   ]
  },
  {
   "cell_type": "code",
   "execution_count": 286,
   "id": "10d42bd6",
   "metadata": {},
   "outputs": [
    {
     "data": {
      "text/plain": [
       "['₹95,990',\n",
       " '₹1,14,990',\n",
       " '₹77,990',\n",
       " '₹57,990',\n",
       " '₹84,990',\n",
       " '₹1,09,990',\n",
       " '₹72,999',\n",
       " '₹89,990',\n",
       " '₹92,990',\n",
       " '₹92,990']"
      ]
     },
     "execution_count": 286,
     "metadata": {},
     "output_type": "execute_result"
    }
   ],
   "source": [
    "price= driver.find_elements_by_xpath('//span[@class=\"a-price\"]')\n",
    "prices=[]\n",
    "for i in price[0:10]:\n",
    "    prices.append(i.text)\n",
    "prices"
   ]
  },
  {
   "cell_type": "code",
   "execution_count": 287,
   "id": "e1f55b6d",
   "metadata": {},
   "outputs": [
    {
     "data": {
      "text/plain": [
       "['https://www.amazon.in/gp/slredirect/picassoRedirect.html/ref=pa_sp_atf_computers_sr_pg1_1?ie=UTF8&adId=A05737051OF0H1VKX0MNY&url=%2FASUS-TUF-F15-i7-11370H-FX516PE-HN088TS%2Fdp%2FB094RDLV5P%2Fref%3Dsr_1_1_sspa%3Fdchild%3D1%26keywords%3DLaptop%26qid%3D1631503602%26refinements%3Dp_n_feature_thirteen_browse-bin%253A12598163031%257C16757432031%26rnid%3D12598141031%26s%3Dcomputers%26sr%3D1-1-spons%26psc%3D1&qualifier=1631503602&id=439582308738198&widgetName=sp_atf',\n",
       " 'https://www.amazon.in/gp/slredirect/picassoRedirect.html/ref=pa_sp_atf_computers_sr_pg1_1?ie=UTF8&adId=A02898492M0S3HLYLHJ3I&url=%2FDell-9370-13-3-inch-i7-8550U-Integrated%2Fdp%2FB08C5G8J4D%2Fref%3Dsr_1_2_sspa%3Fdchild%3D1%26keywords%3DLaptop%26qid%3D1631503602%26refinements%3Dp_n_feature_thirteen_browse-bin%253A12598163031%257C16757432031%26rnid%3D12598141031%26s%3Dcomputers%26sr%3D1-2-spons%26psc%3D1&qualifier=1631503602&id=439582308738198&widgetName=sp_atf',\n",
       " 'https://www.amazon.in/Lenovo-IdeaPad-Windows-Graphics-82H1002CIN/dp/B094XJPQ6N/ref=sr_1_3?dchild=1&keywords=Laptop&qid=1631503602&refinements=p_n_feature_thirteen_browse-bin%3A12598163031%7C16757432031&rnid=12598141031&s=computers&sr=1-3',\n",
       " 'https://www.amazon.in/Notebook-Horizon-i7-10510U-Graphics-XMA1904-AF/dp/B089DFJHZ8/ref=sr_1_4?dchild=1&keywords=Laptop&qid=1631503602&refinements=p_n_feature_thirteen_browse-bin%3A12598163031%7C16757432031&rnid=12598141031&s=computers&sr=1-4',\n",
       " 'https://www.amazon.in/ASUS-Dash-F15-15-6-inch-i7-11370H-FX516PC-HN063T/dp/B096KVJ5PC/ref=sr_1_5?dchild=1&keywords=Laptop&qid=1631503602&refinements=p_n_feature_thirteen_browse-bin%3A12598163031%7C16757432031&rnid=12598141031&s=computers&sr=1-5',\n",
       " 'https://www.amazon.in/ASUS-i7-11370H-GeForce-Graphics-FX516PM-AZ153TS/dp/B08CKRKTSY/ref=sr_1_6?dchild=1&keywords=Laptop&qid=1631503602&refinements=p_n_feature_thirteen_browse-bin%3A12598163031%7C16757432031&rnid=12598141031&s=computers&sr=1-6',\n",
       " 'https://www.amazon.in/Notebook-Display-i7-11370H-Graphics-Fingerprint/dp/B0965LKL7B/ref=sr_1_7?dchild=1&keywords=Laptop&qid=1631503602&refinements=p_n_feature_thirteen_browse-bin%3A12598163031%7C16757432031&rnid=12598141031&s=computers&sr=1-7',\n",
       " 'https://www.amazon.in/HP-Pavilion-15-6-inch-Graphics-15-dk2075tx/dp/B09BDBCRNZ/ref=sr_1_8?dchild=1&keywords=Laptop&qid=1631503602&refinements=p_n_feature_thirteen_browse-bin%3A12598163031%7C16757432031&rnid=12598141031&s=computers&sr=1-8',\n",
       " 'https://www.amazon.in/Fujitsu-33-78cm-Graphics-Fingerprint-4ZR1D67596/dp/B098P34QRL/ref=sr_1_9?dchild=1&keywords=Laptop&qid=1631503602&refinements=p_n_feature_thirteen_browse-bin%3A12598163031%7C16757432031&rnid=12598141031&s=computers&sr=1-9',\n",
       " 'https://www.amazon.in/HP-Pavilion-13-3-inch-Ceramic-13-bb0078TU/dp/B09839P9XB/ref=sr_1_10?dchild=1&keywords=Laptop&qid=1631503602&refinements=p_n_feature_thirteen_browse-bin%3A12598163031%7C16757432031&rnid=12598141031&s=computers&sr=1-10']"
      ]
     },
     "execution_count": 287,
     "metadata": {},
     "output_type": "execute_result"
    }
   ],
   "source": [
    "url= driver.find_elements_by_xpath('//a[@class=\"a-link-normal a-text-normal\"]')\n",
    "rating=[]\n",
    "for i in url[0:10]:\n",
    "    rating.append(i.get_attribute('href'))\n",
    "rating"
   ]
  },
  {
   "cell_type": "code",
   "execution_count": 288,
   "id": "79db67f0",
   "metadata": {},
   "outputs": [
    {
     "data": {
      "text/plain": [
       "['15 ratings4.1 out of 5 stars',\n",
       " '11 ratings2.8 out of 5 stars',\n",
       " '100 ratings4.3 out of 5 stars',\n",
       " '815 ratings4.2 out of 5 stars',\n",
       " '5 ratings3.3 out of 5 stars',\n",
       " '13 ratings3.7 out of 5 stars',\n",
       " '51 ratings4.4 out of 5 stars',\n",
       " '29 ratings3.7 out of 5 stars',\n",
       " '29 ratings4.2 out of 5 stars',\n",
       " '4 ratings5.0 out of 5 stars']"
      ]
     },
     "execution_count": 288,
     "metadata": {},
     "output_type": "execute_result"
    }
   ],
   "source": [
    "rating_all=[]\n",
    "for i in rating:\n",
    "    driver.get(i)\n",
    "    \n",
    "    try:\n",
    "        ratings=driver.find_element_by_xpath('//td[@class=\"a-size-base\"]')\n",
    "        rating_all.append(ratings.text.replace(\"\\n\",\"\"))\n",
    "    except:\n",
    "        rating_all.append(\"--\")\n",
    "\n",
    "rating_all"
   ]
  },
  {
   "cell_type": "code",
   "execution_count": 293,
   "id": "0d87b51b",
   "metadata": {},
   "outputs": [
    {
     "data": {
      "text/html": [
       "<div>\n",
       "<style scoped>\n",
       "    .dataframe tbody tr th:only-of-type {\n",
       "        vertical-align: middle;\n",
       "    }\n",
       "\n",
       "    .dataframe tbody tr th {\n",
       "        vertical-align: top;\n",
       "    }\n",
       "\n",
       "    .dataframe thead th {\n",
       "        text-align: right;\n",
       "    }\n",
       "</style>\n",
       "<table border=\"1\" class=\"dataframe\">\n",
       "  <thead>\n",
       "    <tr style=\"text-align: right;\">\n",
       "      <th></th>\n",
       "      <th>Titles</th>\n",
       "      <th>Ratings</th>\n",
       "      <th>Prices</th>\n",
       "    </tr>\n",
       "  </thead>\n",
       "  <tbody>\n",
       "    <tr>\n",
       "      <th>0</th>\n",
       "      <td>ASUS TUF Dash F15 (2021), 15.6\" (39.62 cms) FH...</td>\n",
       "      <td>15 ratings4.1 out of 5 stars</td>\n",
       "      <td>₹95,990</td>\n",
       "    </tr>\n",
       "    <tr>\n",
       "      <th>1</th>\n",
       "      <td>Dell XPS 9370 13.3-inch FHD Display Thin &amp; Lig...</td>\n",
       "      <td>11 ratings2.8 out of 5 stars</td>\n",
       "      <td>₹1,14,990</td>\n",
       "    </tr>\n",
       "    <tr>\n",
       "      <th>2</th>\n",
       "      <td>Lenovo IdeaPad S540 11th Gen Intel Core i7 13....</td>\n",
       "      <td>100 ratings4.3 out of 5 stars</td>\n",
       "      <td>₹77,990</td>\n",
       "    </tr>\n",
       "    <tr>\n",
       "      <th>3</th>\n",
       "      <td>Mi Notebook Horizon Edition 14 Intel Core i7-1...</td>\n",
       "      <td>815 ratings4.2 out of 5 stars</td>\n",
       "      <td>₹57,990</td>\n",
       "    </tr>\n",
       "    <tr>\n",
       "      <th>4</th>\n",
       "      <td>ASUS TUF Dash F15 (2021), 15.6-inch (39.62 cms...</td>\n",
       "      <td>5 ratings3.3 out of 5 stars</td>\n",
       "      <td>₹84,990</td>\n",
       "    </tr>\n",
       "    <tr>\n",
       "      <th>5</th>\n",
       "      <td>ASUS TUF Dash F15 (2021) 15.6\" (39.62 cm) FHD ...</td>\n",
       "      <td>13 ratings3.7 out of 5 stars</td>\n",
       "      <td>₹1,09,990</td>\n",
       "    </tr>\n",
       "    <tr>\n",
       "      <th>6</th>\n",
       "      <td>Mi Notebook Pro QHD+ IPS Anti Glare Display In...</td>\n",
       "      <td>51 ratings4.4 out of 5 stars</td>\n",
       "      <td>₹72,999</td>\n",
       "    </tr>\n",
       "    <tr>\n",
       "      <th>7</th>\n",
       "      <td>HP Pavilion Gaming 11th Gen Intel Core i7 15.6...</td>\n",
       "      <td>29 ratings3.7 out of 5 stars</td>\n",
       "      <td>₹89,990</td>\n",
       "    </tr>\n",
       "    <tr>\n",
       "      <th>8</th>\n",
       "      <td>Fujitsu UH-X 11th Gen Intel i7 Core 13.3” (33....</td>\n",
       "      <td>29 ratings4.2 out of 5 stars</td>\n",
       "      <td>₹92,990</td>\n",
       "    </tr>\n",
       "    <tr>\n",
       "      <th>9</th>\n",
       "      <td>HP Pavilion 13(2021) 11th Gen Intel Core i7 La...</td>\n",
       "      <td>4 ratings5.0 out of 5 stars</td>\n",
       "      <td>₹92,990</td>\n",
       "    </tr>\n",
       "  </tbody>\n",
       "</table>\n",
       "</div>"
      ],
      "text/plain": [
       "                                              Titles  \\\n",
       "0  ASUS TUF Dash F15 (2021), 15.6\" (39.62 cms) FH...   \n",
       "1  Dell XPS 9370 13.3-inch FHD Display Thin & Lig...   \n",
       "2  Lenovo IdeaPad S540 11th Gen Intel Core i7 13....   \n",
       "3  Mi Notebook Horizon Edition 14 Intel Core i7-1...   \n",
       "4  ASUS TUF Dash F15 (2021), 15.6-inch (39.62 cms...   \n",
       "5  ASUS TUF Dash F15 (2021) 15.6\" (39.62 cm) FHD ...   \n",
       "6  Mi Notebook Pro QHD+ IPS Anti Glare Display In...   \n",
       "7  HP Pavilion Gaming 11th Gen Intel Core i7 15.6...   \n",
       "8  Fujitsu UH-X 11th Gen Intel i7 Core 13.3” (33....   \n",
       "9  HP Pavilion 13(2021) 11th Gen Intel Core i7 La...   \n",
       "\n",
       "                         Ratings     Prices  \n",
       "0   15 ratings4.1 out of 5 stars    ₹95,990  \n",
       "1   11 ratings2.8 out of 5 stars  ₹1,14,990  \n",
       "2  100 ratings4.3 out of 5 stars    ₹77,990  \n",
       "3  815 ratings4.2 out of 5 stars    ₹57,990  \n",
       "4    5 ratings3.3 out of 5 stars    ₹84,990  \n",
       "5   13 ratings3.7 out of 5 stars  ₹1,09,990  \n",
       "6   51 ratings4.4 out of 5 stars    ₹72,999  \n",
       "7   29 ratings3.7 out of 5 stars    ₹89,990  \n",
       "8   29 ratings4.2 out of 5 stars    ₹92,990  \n",
       "9    4 ratings5.0 out of 5 stars    ₹92,990  "
      ]
     },
     "execution_count": 293,
     "metadata": {},
     "output_type": "execute_result"
    }
   ],
   "source": [
    "laptops= pd.DataFrame({})\n",
    "laptops[\"Titles\"]=titles\n",
    "laptops[\"Ratings\"]=rating_all\n",
    "laptops[\"Prices\"]=prices\n",
    "laptops"
   ]
  },
  {
   "cell_type": "code",
   "execution_count": null,
   "id": "8f02501a",
   "metadata": {},
   "outputs": [],
   "source": []
  }
 ],
 "metadata": {
  "kernelspec": {
   "display_name": "Python 3",
   "language": "python",
   "name": "python3"
  },
  "language_info": {
   "codemirror_mode": {
    "name": "ipython",
    "version": 3
   },
   "file_extension": ".py",
   "mimetype": "text/x-python",
   "name": "python",
   "nbconvert_exporter": "python",
   "pygments_lexer": "ipython3",
   "version": "3.8.8"
  }
 },
 "nbformat": 4,
 "nbformat_minor": 5
}
