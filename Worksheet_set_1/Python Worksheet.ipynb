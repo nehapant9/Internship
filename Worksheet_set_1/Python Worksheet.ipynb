{
 "cells": [
  {
   "cell_type": "code",
   "execution_count": 18,
   "id": "652c2b6b",
   "metadata": {},
   "outputs": [
    {
     "name": "stdout",
     "output_type": "stream",
     "text": [
      "Enter a number:5\n",
      "The factorial of 5 is 120\n"
     ]
    }
   ],
   "source": [
    "#Q11 Write a python program to find the factorial of a number.\n",
    "\n",
    "A = int(input(\"Enter a number:\"))    \n",
    "factorial = 1    \n",
    "if A < 0:\n",
    "    print(\"Factorial does not exist\")    \n",
    "elif A == 0:\n",
    "    print(\"The factorial of 0 is 1\")    \n",
    "else:\n",
    "    for i in range(1,A+1):\n",
    "        factorial = factorial*i\n",
    "print(\"The factorial of\",A,\"is\",factorial)    "
   ]
  },
  {
   "cell_type": "code",
   "execution_count": 30,
   "id": "2d1c2cfe",
   "metadata": {},
   "outputs": [
    {
     "name": "stdout",
     "output_type": "stream",
     "text": [
      "Enter an input number:11\n",
      "11 is a prime number\n"
     ]
    }
   ],
   "source": [
    "#Q12 Write a python program to find whether a number is prime or composite.\n",
    "\n",
    "def PrimeChecker(a):\n",
    "    if a > 1:\n",
    "        for j in range(2, int(a/2) + 1):\n",
    "            if (a % j) == 0:\n",
    "                print(a, \"is not a prime number\")\n",
    "                break\n",
    "        else:\n",
    "            print(a, \"is a prime number\")\n",
    "    else:\n",
    "        print(a, \"is not a prime number\")\n",
    "        \n",
    "a = int(input(\"Enter an input number:\"))\n",
    "PrimeChecker(a)"
   ]
  },
  {
   "cell_type": "code",
   "execution_count": 47,
   "id": "bb7d409a",
   "metadata": {},
   "outputs": [
    {
     "name": "stdout",
     "output_type": "stream",
     "text": [
      "Yes\n"
     ]
    }
   ],
   "source": [
    "#Q13 Write a python program to check whether a given string is palindrome or not.\n",
    "\n",
    "def isPalindrome(s):\n",
    "    if s == s[::-1]:\n",
    "        print(\"Yes\")\n",
    "    else:\n",
    "        print(\"No\")\n",
    "            \n",
    "s = \"level\"\n",
    "isPalindrome(s)"
   ]
  },
  {
   "cell_type": "code",
   "execution_count": 51,
   "id": "47430316",
   "metadata": {},
   "outputs": [
    {
     "name": "stdout",
     "output_type": "stream",
     "text": [
      "a= 4\n",
      "b= 2\n",
      "The length of third side is= 4.47213595499958\n"
     ]
    }
   ],
   "source": [
    "#Q14 Write a Python program to get the third side of right-angled triangle from two given sides.\n",
    "\n",
    "from math import sqrt\n",
    "\n",
    "side_a= float(input(\"a= \"))\n",
    "side_b= float(input(\"b= \"))\n",
    "side_c= sqrt(side_a**2 + side_b**2)\n",
    "\n",
    "print(\"The length of third side is=\", side_c)"
   ]
  },
  {
   "cell_type": "code",
   "execution_count": 55,
   "id": "33f81c21",
   "metadata": {},
   "outputs": [
    {
     "name": "stdout",
     "output_type": "stream",
     "text": [
      "Count of all characters in GeeksforGeeks is:\n",
      "  {'D': 1, 'a': 2, 't': 1, ' ': 1, 'S': 1, 'c': 2, 'i': 1, 'e': 2, 'n': 1}\n"
     ]
    }
   ],
   "source": [
    "#Q15 Write a python program to print the frequency of each of the characters present in a given string.\n",
    "\n",
    "string = \"Data Science\"\n",
    "\n",
    "all_freq = {}\n",
    "for i in string:\n",
    "    if i in all_freq:\n",
    "        all_freq[i] += 1\n",
    "    else:\n",
    "        all_freq[i] = 1\n",
    "\n",
    "print (\"Count of all characters in GeeksforGeeks is:\\n \",str(all_freq))"
   ]
  },
  {
   "cell_type": "code",
   "execution_count": null,
   "id": "dcbcc6c4",
   "metadata": {},
   "outputs": [],
   "source": []
  }
 ],
 "metadata": {
  "kernelspec": {
   "display_name": "Python 3",
   "language": "python",
   "name": "python3"
  },
  "language_info": {
   "codemirror_mode": {
    "name": "ipython",
    "version": 3
   },
   "file_extension": ".py",
   "mimetype": "text/x-python",
   "name": "python",
   "nbconvert_exporter": "python",
   "pygments_lexer": "ipython3",
   "version": "3.8.8"
  }
 },
 "nbformat": 4,
 "nbformat_minor": 5
}
